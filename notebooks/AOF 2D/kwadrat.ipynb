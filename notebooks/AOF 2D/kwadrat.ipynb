{
 "cells": [
  {
   "cell_type": "code",
   "execution_count": 9,
   "id": "17e59065",
   "metadata": {},
   "outputs": [],
   "source": [
    "import matplotlib.pyplot as plt\n",
    "import matplotlib.image as mpimg\n",
    "import math\n",
    "import numpy as np\n",
    "import scipy.ndimage.morphology as morphOps\n",
    "from PIL import Image\n",
    "\n",
    "def rgb2gray(rgb):\n",
    "    return np.dot(rgb[...,:3], [0.2989, 0.5870, 0.1140])"
   ]
  },
  {
   "cell_type": "code",
   "execution_count": 42,
   "id": "4bc76792",
   "metadata": {},
   "outputs": [
    {
     "data": {
      "image/png": "[encoded data removed]",
      "text/plain": [
       "<PIL.JpegImagePlugin.JpegImageFile image mode=RGB size=602x558 at 0x7F66507153D0>"
      ]
     },
     "execution_count": 42,
     "metadata": {},
     "output_type": "execute_result"
    }
   ],
   "source": [
    "fileName = \"kwadrat.jpg\"\n",
    "I=Image.open(fileName)\n",
    "I"
   ]
  },
  {
   "cell_type": "code",
   "execution_count": 43,
   "id": "0f565926",
   "metadata": {},
   "outputs": [],
   "source": [
    "I = I.resize((np.array(I.size) * 0.3).astype(int))\n",
    "I = np.asarray(I)\n",
    "I = rgb2gray(I)"
   ]
  },
  {
   "cell_type": "code",
   "execution_count": 44,
   "id": "304f357e",
   "metadata": {},
   "outputs": [
    {
     "data": {
      "text/plain": [
       "(167, 180)"
      ]
     },
     "execution_count": 44,
     "metadata": {},
     "output_type": "execute_result"
    }
   ],
   "source": [
    "I.shape"
   ]
  },
  {
   "cell_type": "code",
   "execution_count": 45,
   "id": "08ac9353",
   "metadata": {},
   "outputs": [],
   "source": [
    "I[I<128] = 1\n",
    "I[I>128] = 0"
   ]
  },
  {
   "cell_type": "code",
   "execution_count": 46,
   "id": "c6519c67",
   "metadata": {},
   "outputs": [
    {
     "data": {
      "image/png": "[encoded data removed]",
      "text/plain": [
       "<Figure size 432x288 with 1 Axes>"
      ]
     },
     "metadata": {
      "needs_background": "light"
     },
     "output_type": "display_data"
    }
   ],
   "source": [
    "imgplot = plt.imshow(I)\n",
    "plt.show()"
   ]
  },
  {
   "cell_type": "code",
   "execution_count": 47,
   "id": "0ba8bed4",
   "metadata": {},
   "outputs": [
    {
     "data": {
      "text/plain": [
       "(167, 180)"
      ]
     },
     "execution_count": 47,
     "metadata": {},
     "output_type": "execute_result"
    }
   ],
   "source": [
    "distImage,IDX = morphOps.distance_transform_edt(I,return_indices=True)\n",
    "distImage.shape"
   ]
  },
  {
   "cell_type": "code",
   "execution_count": 48,
   "id": "b7bd0a59",
   "metadata": {},
   "outputs": [
    {
     "data": {
      "image/png": "[encoded data removed]",
      "text/plain": [
       "<Figure size 432x288 with 1 Axes>"
      ]
     },
     "metadata": {
      "needs_background": "light"
     },
     "output_type": "display_data"
    }
   ],
   "source": [
    "plt.imshow(distImage)\n",
    "plt.show()"
   ]
  },
  {
   "cell_type": "code",
   "execution_count": null,
   "id": "33fd5825",
   "metadata": {},
   "outputs": [],
   "source": []
  }
 ],
 "metadata": {
  "kernelspec": {
   "display_name": "Python 3 (ipykernel)",
   "language": "python",
   "name": "python3"
  },
  "language_info": {
   "codemirror_mode": {
    "name": "ipython",
    "version": 3
   },
   "file_extension": ".py",
   "mimetype": "text/x-python",
   "name": "python",
   "nbconvert_exporter": "python",
   "pygments_lexer": "ipython3",
   "version": "3.7.11"
  }
 },
 "nbformat": 4,
 "nbformat_minor": 5
}
