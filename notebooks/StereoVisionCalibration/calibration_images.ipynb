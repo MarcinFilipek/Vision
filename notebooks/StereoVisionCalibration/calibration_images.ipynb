{
 "cells": [
  {
   "cell_type": "code",
   "execution_count": 2,
   "id": "fbfdea84",
   "metadata": {},
   "outputs": [],
   "source": [
    "import cv2\n",
    "\n",
    "cap = cv2.VideoCapture(2)\n",
    "cap2 = cv2.VideoCapture(4)\n",
    "\n",
    "num = 0\n",
    "\n",
    "while cap.isOpened():\n",
    "\n",
    "    succes1, img = cap.read()\n",
    "    succes2, img2 = cap2.read()\n",
    "\n",
    "    k = cv2.waitKey(5)\n",
    "\n",
    "    if k == 27:\n",
    "        break\n",
    "    elif k == ord('s'): # wait for 's' key to save and exit\n",
    "        cv2.imwrite('images/stereoLeft/imageL' + str(num) + '.png', img)\n",
    "        cv2.imwrite('images/stereoRight/imageR' + str(num) + '.png', img2)\n",
    "        print(\"images saved!\")\n",
    "        num += 1\n",
    "\n",
    "    cv2.imshow('Img 1',img)\n",
    "    cv2.imshow('Img 2',img2)\n",
    "\n",
    "# Release and destroy all windows before termination\n",
    "cap.release()\n",
    "cap2.release()\n",
    "\n",
    "cv2.destroyAllWindows()\n"
   ]
  },
  {
   "cell_type": "code",
   "execution_count": null,
   "id": "f244536f",
   "metadata": {},
   "outputs": [],
   "source": []
  }
 ],
 "metadata": {
  "kernelspec": {
   "display_name": "Python 3 (ipykernel)",
   "language": "python",
   "name": "python3"
  },
  "language_info": {
   "codemirror_mode": {
    "name": "ipython",
    "version": 3
   },
   "file_extension": ".py",
   "mimetype": "text/x-python",
   "name": "python",
   "nbconvert_exporter": "python",
   "pygments_lexer": "ipython3",
   "version": "3.7.11"
  }
 },
 "nbformat": 4,
 "nbformat_minor": 5
}
